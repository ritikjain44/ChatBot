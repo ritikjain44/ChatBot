{
  "nbformat": 4,
  "nbformat_minor": 0,
  "metadata": {
    "colab": {
      "provenance": []
    },
    "kernelspec": {
      "name": "python3",
      "display_name": "Python 3"
    },
    "language_info": {
      "name": "python"
    }
  },
  "cells": [
    {
      "cell_type": "markdown",
      "source": [
        "# Create a Chatbot in Python"
      ],
      "metadata": {
        "id": "jb_PMNhrymRC"
      }
    },
    {
      "cell_type": "markdown",
      "source": [
        "**Step-1: Connecting with Google Drive Files and Folders**"
      ],
      "metadata": {
        "id": "3nzBcXg7y1Yi"
      }
    },
    {
      "cell_type": "code",
      "execution_count": 4,
      "metadata": {
        "colab": {
          "base_uri": "https://localhost:8080/"
        },
        "id": "qag4UuGhyiTk",
        "outputId": "e957974a-edd4-42e5-eeeb-ef5106c963bb"
      },
      "outputs": [
        {
          "output_type": "stream",
          "name": "stdout",
          "text": [
            "Drive already mounted at /content/drive; to attempt to forcibly remount, call drive.mount(\"/content/drive\", force_remount=True).\n"
          ]
        }
      ],
      "source": [
        "#Mounting the Google Drive\n",
        "from google.colab import drive\n",
        "drive.mount('/content/drive')\n",
        "data_root='/content/drive/My Drive/ChatBot'\n",
        "#Please upload the files in your drive and change the path to it accordingly"
      ]
    },
    {
      "cell_type": "markdown",
      "source": [
        "**Step-2: Importing Relevant Libraries**"
      ],
      "metadata": {
        "id": "W7C2utV90Ion"
      }
    },
    {
      "cell_type": "code",
      "source": [
        "#2 Importing Relevant Libraries\n",
        "import json\n",
        "import string\n",
        "import random\n",
        "import nltk\n",
        "import numpy as np\n",
        "from nltk.stem import WordNetLemmatizer\n",
        "import tensorflow as tf\n",
        "from tensorflow.keras import Sequential\n",
        "from tensorflow.keras.layers import Dense, Dropout\n",
        "nltk.download(\"punkt\")\n",
        "nltk.download(\"wordnet\")"
      ],
      "metadata": {
        "colab": {
          "base_uri": "https://localhost:8080/"
        },
        "id": "idTfv6E-zcvV",
        "outputId": "16febca2-dbf1-4eda-f4d0-545ae086e9fd"
      },
      "execution_count": 7,
      "outputs": [
        {
          "output_type": "stream",
          "name": "stderr",
          "text": [
            "[nltk_data] Downloading package punkt to /root/nltk_data...\n",
            "[nltk_data]   Package punkt is already up-to-date!\n",
            "[nltk_data] Downloading package wordnet to /root/nltk_data...\n"
          ]
        },
        {
          "output_type": "execute_result",
          "data": {
            "text/plain": [
              "True"
            ]
          },
          "metadata": {},
          "execution_count": 7
        }
      ]
    },
    {
      "cell_type": "markdown",
      "source": [
        "**Step-3: Reading the JSON file**"
      ],
      "metadata": {
        "id": "ab_0PkAc0cYQ"
      }
    },
    {
      "cell_type": "code",
      "source": [
        "#Loading the Dataset: intents.json\n",
        "data_file = open(data_root + '/intents.json').read()\n",
        "data = json.loads(data_file)"
      ],
      "metadata": {
        "id": "0Xyl2JNt0RPl"
      },
      "execution_count": 9,
      "outputs": []
    },
    {
      "cell_type": "code",
      "source": [
        "data"
      ],
      "metadata": {
        "colab": {
          "base_uri": "https://localhost:8080/"
        },
        "id": "93GJXaW305c_",
        "outputId": "463f8ec3-7eaa-4a29-9877-c27b8246a114"
      },
      "execution_count": 10,
      "outputs": [
        {
          "output_type": "execute_result",
          "data": {
            "text/plain": [
              "{'intents': [{'tag': 'hello',\n",
              "   'patterns': ['Hello', 'Hi there', 'Good morning', \"What's up\"],\n",
              "   'responses': ['Hey!', 'Hello', 'Hi!', 'Good morning!'],\n",
              "   'context': ''},\n",
              "  {'tag': 'noanswer',\n",
              "   'patterns': [],\n",
              "   'responses': [\"Sorry, can't understand you\",\n",
              "    'Please give me more info',\n",
              "    'Not sure I understand'],\n",
              "   'context': ['']},\n",
              "  {'tag': 'job',\n",
              "   'patterns': ['What is your job', 'What is your work'],\n",
              "   'responses': ['My job is to make you feel like everything is okay.',\n",
              "    'I work to serve you as well as possible'],\n",
              "   'context': ''},\n",
              "  {'tag': 'age',\n",
              "   'patterns': ['What is your age', 'How old are you', 'When were you born'],\n",
              "   'responses': ['I was born in 2021'],\n",
              "   'context': ''},\n",
              "  {'tag': 'feeling',\n",
              "   'patterns': ['How are you today', 'How are you'],\n",
              "   'responses': ['I am feeling good, you?',\n",
              "    'Very good and you?',\n",
              "    \"Actually, I'm okay and you?\"],\n",
              "   'context': ''},\n",
              "  {'tag': 'good',\n",
              "   'patterns': ['I am good too',\n",
              "    'I feel fine',\n",
              "    'Good !',\n",
              "    'Fine',\n",
              "    'I am good',\n",
              "    'I am great',\n",
              "    'great'],\n",
              "   'responses': ['That is perfect!', \"So, everything's okay!\"],\n",
              "   'context': 'feeling'},\n",
              "  {'tag': 'bad',\n",
              "   'patterns': ['I am feeling bad', 'No I am sad', 'No'],\n",
              "   'responses': ['I hope you will feel better !'],\n",
              "   'context': 'feeling'},\n",
              "  {'tag': 'actions',\n",
              "   'patterns': ['What can you do', 'What can I ask you', 'Can you help me'],\n",
              "   'responses': ['I can do a lot of things but here are some of my skills, you can ask me: the capital of a country, its currency and its area. A random number. To calculate a math operation.'],\n",
              "   'context': ''},\n",
              "  {'tag': 'women',\n",
              "   'patterns': ['Are you a girl', 'You are a women'],\n",
              "   'responses': ['Sure, I am a women'],\n",
              "   'context': ''},\n",
              "  {'tag': 'men',\n",
              "   'patterns': ['Are you a men', 'Are you a boy'],\n",
              "   'responses': ['No, I am a women'],\n",
              "   'context': ''},\n",
              "  {'tag': 'thanks',\n",
              "   'patterns': ['Thank you', 'Thank you very much', 'thanks'],\n",
              "   'responses': ['I only do my job️', 'No problem!'],\n",
              "   'context': ''},\n",
              "  {'tag': 'goodbye',\n",
              "   'patterns': ['Goodbye', 'Good afternoon', 'Bye'],\n",
              "   'responses': ['Goodbye!', 'See you soon!'],\n",
              "   'context': ''},\n",
              "  {'tag': 'city',\n",
              "   'patterns': ['Where do you live'],\n",
              "   'responses': ['I live in a server located in the US!'],\n",
              "   'context': ''},\n",
              "  {'tag': 'action',\n",
              "   'patterns': ['What are you doing'],\n",
              "   'responses': [\"Actually, I'm chatting with somebody\"],\n",
              "   'context': ''},\n",
              "  {'tag': 'wait',\n",
              "   'patterns': ['Can you wait 2 minutes', 'Please wait', 'Wait 2 secs please'],\n",
              "   'responses': ['Sure! I wait.'],\n",
              "   'context': ''},\n",
              "  {'tag': 'still there',\n",
              "   'patterns': ['Are you still there?', 'Are you here?'],\n",
              "   'responses': ['Of course! Always at your service.'],\n",
              "   'context': ''}]}"
            ]
          },
          "metadata": {},
          "execution_count": 10
        }
      ]
    },
    {
      "cell_type": "markdown",
      "source": [
        "**Step-4: Identifying Feature and Target for the NLP Model**"
      ],
      "metadata": {
        "id": "wdDiD04n2X66"
      }
    },
    {
      "cell_type": "code",
      "source": [
        "#4 Creating data X and data Y\n",
        "words = [] #For Bow model/ vocabulary for patterns\n",
        "classes = [] #For Bow model/ vocabulary for tags\n",
        "data_X = [] #For storing each pattern\n",
        "data_y = [] #For storing tag corresponding to each pattern in data X\n",
        "\n",
        "for intent in data[\"intents\"]:\n",
        "  for pattern in intent[\"patterns\"]:\n",
        "    tokens = nltk.word_tokenize(pattern) #tokenize each pattern\n",
        "    words.extend(tokens) #and append tokens to words\n",
        "    data_X.append(pattern) #appending pattern to data X\n",
        "    data_y.append(intent[\"tag\"]) ,#appending the associated tag to each pattern\n",
        "\n",
        "  #adding the tag to the classes if it's not there already\n",
        "  if intent[\"tag\"] not in classes:\n",
        "    classes.append(intent[\"tag\"])\n",
        "\n",
        "#initializing lemmatizer to get stem of words\n",
        "lemmatizer = WordNetLemmatizer()\n",
        "\n",
        "#lemmatize all the words in the vocab and convert them to lowercase\n",
        "#if the words don't appear in punctuation\n",
        "words = [lemmatizer.lemmatize(word.lower()) for word in words if word not in string.punctuation]\n",
        "#sorting the vocab and classes in alphabetical order and taking the # set to ensure no duplicates occur\n",
        "words = sorted(set(words))\n",
        "classes = sorted(set(classes))"
      ],
      "metadata": {
        "id": "1KrfwAuS2T7n"
      },
      "execution_count": 16,
      "outputs": []
    },
    {
      "cell_type": "markdown",
      "source": [
        "**Step-5: Making the data Machine-friendly**"
      ],
      "metadata": {
        "id": "UxVV3Egq4XKi"
      }
    },
    {
      "cell_type": "code",
      "source": [
        "training = []\n",
        "out_empty = [0] * len(classes)\n",
        "#creating the bag of words model\n",
        "for idx, doc in enumerate(data_X):\n",
        "  bow = []\n",
        "  text = lemmatizer.lemmatize(doc.lower())\n",
        "  for word in words:\n",
        "    bow.append(1) if word in text else bow.append(0)\n",
        "    #mark the index of class that the current pattern is associated\n",
        "    #to\n",
        "  output_row = list(out_empty)\n",
        "  output_row[classes.index(data_y[idx])] = 1\n",
        "  #add the one hot encoded Boll and associated classes to training training.append([bow, output_row])\n",
        "  training.append([bow,output_row])\n",
        "#shuffle the data and convert it to an array random.shuffle(training)\n",
        "random.shuffle(training)\n",
        "training = np.array(training, dtype=object)\n",
        "#split the features and target labels\n",
        "train_X = np.array(list(training[:, 0]))\n",
        "train_Y = np.array(list(training[:, 1]))"
      ],
      "metadata": {
        "id": "ogUdznhM3okg"
      },
      "execution_count": 22,
      "outputs": []
    },
    {
      "cell_type": "markdown",
      "source": [
        "**Step-6: Building the Neural Network Model**"
      ],
      "metadata": {
        "id": "eAj1yHkv64Ls"
      }
    },
    {
      "cell_type": "code",
      "source": [
        "#6 The Neural Network Model\n",
        "model = Sequential()\n",
        "model.add(Dense (128, input_shape=(len(train_X[0]),), activation=\"relu\"))\n",
        "model.add(Dropout(0.5))\n",
        "model.add(Dense (64, activation=\"relu\"))\n",
        "model.add(Dropout(0.5))\n",
        "model.add(Dense(len(train_Y[0]), activation = \"softmax\"))\n",
        "adam = tf.keras.optimizers.Adam(learning_rate=0.01, beta_1=0.9, beta_2=0.999, epsilon=1e-07)\n",
        "model.compile(loss=\"categorical_crossentropy\", optimizer = adam, metrics = [\"accuracy\"])\n",
        "print(model.summary())\n",
        "model.fit(x=train_X, y=train_Y, epochs=150, verbose=1)"
      ],
      "metadata": {
        "colab": {
          "base_uri": "https://localhost:8080/"
        },
        "id": "kGSGONTM5x27",
        "outputId": "96202b7a-b632-4c9c-b673-2ca037db0607"
      },
      "execution_count": 26,
      "outputs": [
        {
          "output_type": "stream",
          "name": "stdout",
          "text": [
            "Model: \"sequential_3\"\n",
            "_________________________________________________________________\n",
            " Layer (type)                Output Shape              Param #   \n",
            "=================================================================\n",
            " dense_9 (Dense)             (None, 128)               7552      \n",
            "                                                                 \n",
            " dropout_6 (Dropout)         (None, 128)               0         \n",
            "                                                                 \n",
            " dense_10 (Dense)            (None, 64)                8256      \n",
            "                                                                 \n",
            " dropout_7 (Dropout)         (None, 64)                0         \n",
            "                                                                 \n",
            " dense_11 (Dense)            (None, 16)                1040      \n",
            "                                                                 \n",
            "=================================================================\n",
            "Total params: 16848 (65.81 KB)\n",
            "Trainable params: 16848 (65.81 KB)\n",
            "Non-trainable params: 0 (0.00 Byte)\n",
            "_________________________________________________________________\n",
            "None\n",
            "Epoch 1/150\n",
            "2/2 [==============================] - 1s 14ms/step - loss: 2.8996 - accuracy: 0.0488\n",
            "Epoch 2/150\n",
            "2/2 [==============================] - 0s 8ms/step - loss: 2.6989 - accuracy: 0.0976\n",
            "Epoch 3/150\n",
            "2/2 [==============================] - 0s 7ms/step - loss: 2.5966 - accuracy: 0.2195\n",
            "Epoch 4/150\n",
            "2/2 [==============================] - 0s 8ms/step - loss: 2.4107 - accuracy: 0.2439\n",
            "Epoch 5/150\n",
            "2/2 [==============================] - 0s 7ms/step - loss: 2.3402 - accuracy: 0.2195\n",
            "Epoch 6/150\n",
            "2/2 [==============================] - 0s 8ms/step - loss: 2.1191 - accuracy: 0.3902\n",
            "Epoch 7/150\n",
            "2/2 [==============================] - 0s 9ms/step - loss: 2.1454 - accuracy: 0.3415\n",
            "Epoch 8/150\n",
            "2/2 [==============================] - 0s 8ms/step - loss: 1.9601 - accuracy: 0.4146\n",
            "Epoch 9/150\n",
            "2/2 [==============================] - 0s 8ms/step - loss: 1.8405 - accuracy: 0.5122\n",
            "Epoch 10/150\n",
            "2/2 [==============================] - 0s 9ms/step - loss: 1.7551 - accuracy: 0.4878\n",
            "Epoch 11/150\n",
            "2/2 [==============================] - 0s 10ms/step - loss: 1.4549 - accuracy: 0.5610\n",
            "Epoch 12/150\n",
            "2/2 [==============================] - 0s 8ms/step - loss: 1.4403 - accuracy: 0.6098\n",
            "Epoch 13/150\n",
            "2/2 [==============================] - 0s 7ms/step - loss: 1.2811 - accuracy: 0.5854\n",
            "Epoch 14/150\n",
            "2/2 [==============================] - 0s 8ms/step - loss: 1.0332 - accuracy: 0.6829\n",
            "Epoch 15/150\n",
            "2/2 [==============================] - 0s 8ms/step - loss: 1.0106 - accuracy: 0.7073\n",
            "Epoch 16/150\n",
            "2/2 [==============================] - 0s 8ms/step - loss: 1.1599 - accuracy: 0.5854\n",
            "Epoch 17/150\n",
            "2/2 [==============================] - 0s 10ms/step - loss: 0.7852 - accuracy: 0.7561\n",
            "Epoch 18/150\n",
            "2/2 [==============================] - 0s 8ms/step - loss: 0.8654 - accuracy: 0.7317\n",
            "Epoch 19/150\n",
            "2/2 [==============================] - 0s 7ms/step - loss: 1.0106 - accuracy: 0.6098\n",
            "Epoch 20/150\n",
            "2/2 [==============================] - 0s 7ms/step - loss: 0.6694 - accuracy: 0.7805\n",
            "Epoch 21/150\n",
            "2/2 [==============================] - 0s 8ms/step - loss: 0.7774 - accuracy: 0.7561\n",
            "Epoch 22/150\n",
            "2/2 [==============================] - 0s 7ms/step - loss: 0.6872 - accuracy: 0.7561\n",
            "Epoch 23/150\n",
            "2/2 [==============================] - 0s 8ms/step - loss: 0.6157 - accuracy: 0.8049\n",
            "Epoch 24/150\n",
            "2/2 [==============================] - 0s 8ms/step - loss: 0.5555 - accuracy: 0.8537\n",
            "Epoch 25/150\n",
            "2/2 [==============================] - 0s 8ms/step - loss: 0.5506 - accuracy: 0.8293\n",
            "Epoch 26/150\n",
            "2/2 [==============================] - 0s 9ms/step - loss: 0.4087 - accuracy: 0.8780\n",
            "Epoch 27/150\n",
            "2/2 [==============================] - 0s 9ms/step - loss: 0.6163 - accuracy: 0.7317\n",
            "Epoch 28/150\n",
            "2/2 [==============================] - 0s 9ms/step - loss: 0.4294 - accuracy: 0.8780\n",
            "Epoch 29/150\n",
            "2/2 [==============================] - 0s 11ms/step - loss: 0.2899 - accuracy: 0.9268\n",
            "Epoch 30/150\n",
            "2/2 [==============================] - 0s 9ms/step - loss: 0.3342 - accuracy: 0.9024\n",
            "Epoch 31/150\n",
            "2/2 [==============================] - 0s 9ms/step - loss: 0.3307 - accuracy: 0.9268\n",
            "Epoch 32/150\n",
            "2/2 [==============================] - 0s 9ms/step - loss: 0.3949 - accuracy: 0.8537\n",
            "Epoch 33/150\n",
            "2/2 [==============================] - 0s 8ms/step - loss: 0.3255 - accuracy: 0.9268\n",
            "Epoch 34/150\n",
            "2/2 [==============================] - 0s 8ms/step - loss: 0.2031 - accuracy: 0.9512\n",
            "Epoch 35/150\n",
            "2/2 [==============================] - 0s 8ms/step - loss: 0.2413 - accuracy: 0.9024\n",
            "Epoch 36/150\n",
            "2/2 [==============================] - 0s 9ms/step - loss: 0.3746 - accuracy: 0.8293\n",
            "Epoch 37/150\n",
            "2/2 [==============================] - 0s 8ms/step - loss: 0.3517 - accuracy: 0.8537\n",
            "Epoch 38/150\n",
            "2/2 [==============================] - 0s 8ms/step - loss: 0.2575 - accuracy: 0.8780\n",
            "Epoch 39/150\n",
            "2/2 [==============================] - 0s 10ms/step - loss: 0.2296 - accuracy: 0.9268\n",
            "Epoch 40/150\n",
            "2/2 [==============================] - 0s 8ms/step - loss: 0.3154 - accuracy: 0.8780\n",
            "Epoch 41/150\n",
            "2/2 [==============================] - 0s 8ms/step - loss: 0.3515 - accuracy: 0.9024\n",
            "Epoch 42/150\n",
            "2/2 [==============================] - 0s 8ms/step - loss: 0.2562 - accuracy: 0.9024\n",
            "Epoch 43/150\n",
            "2/2 [==============================] - 0s 7ms/step - loss: 0.2868 - accuracy: 0.8780\n",
            "Epoch 44/150\n",
            "2/2 [==============================] - 0s 8ms/step - loss: 0.1734 - accuracy: 0.9512\n",
            "Epoch 45/150\n",
            "2/2 [==============================] - 0s 7ms/step - loss: 0.5104 - accuracy: 0.8537\n",
            "Epoch 46/150\n",
            "2/2 [==============================] - 0s 9ms/step - loss: 0.2407 - accuracy: 0.9024\n",
            "Epoch 47/150\n",
            "2/2 [==============================] - 0s 9ms/step - loss: 0.1821 - accuracy: 0.9268\n",
            "Epoch 48/150\n",
            "2/2 [==============================] - 0s 8ms/step - loss: 0.1626 - accuracy: 0.9512\n",
            "Epoch 49/150\n",
            "2/2 [==============================] - 0s 10ms/step - loss: 0.1663 - accuracy: 0.9268\n",
            "Epoch 50/150\n",
            "2/2 [==============================] - 0s 7ms/step - loss: 0.2950 - accuracy: 0.8780\n",
            "Epoch 51/150\n",
            "2/2 [==============================] - 0s 8ms/step - loss: 0.2039 - accuracy: 0.9268\n",
            "Epoch 52/150\n",
            "2/2 [==============================] - 0s 10ms/step - loss: 0.2138 - accuracy: 0.9268\n",
            "Epoch 53/150\n",
            "2/2 [==============================] - 0s 8ms/step - loss: 0.2467 - accuracy: 0.8780\n",
            "Epoch 54/150\n",
            "2/2 [==============================] - 0s 8ms/step - loss: 0.1972 - accuracy: 0.9512\n",
            "Epoch 55/150\n",
            "2/2 [==============================] - 0s 9ms/step - loss: 0.1163 - accuracy: 0.9756\n",
            "Epoch 56/150\n",
            "2/2 [==============================] - 0s 9ms/step - loss: 0.2638 - accuracy: 0.9024\n",
            "Epoch 57/150\n",
            "2/2 [==============================] - 0s 8ms/step - loss: 0.1138 - accuracy: 0.9756\n",
            "Epoch 58/150\n",
            "2/2 [==============================] - 0s 8ms/step - loss: 0.1628 - accuracy: 0.9268\n",
            "Epoch 59/150\n",
            "2/2 [==============================] - 0s 8ms/step - loss: 0.1735 - accuracy: 0.9512\n",
            "Epoch 60/150\n",
            "2/2 [==============================] - 0s 8ms/step - loss: 0.1425 - accuracy: 0.9756\n",
            "Epoch 61/150\n",
            "2/2 [==============================] - 0s 11ms/step - loss: 0.1514 - accuracy: 0.9268\n",
            "Epoch 62/150\n",
            "2/2 [==============================] - 0s 9ms/step - loss: 0.1815 - accuracy: 0.9268\n",
            "Epoch 63/150\n",
            "2/2 [==============================] - 0s 8ms/step - loss: 0.1736 - accuracy: 0.9512\n",
            "Epoch 64/150\n",
            "2/2 [==============================] - 0s 7ms/step - loss: 0.1649 - accuracy: 0.9268\n",
            "Epoch 65/150\n",
            "2/2 [==============================] - 0s 8ms/step - loss: 0.0604 - accuracy: 1.0000\n",
            "Epoch 66/150\n",
            "2/2 [==============================] - 0s 8ms/step - loss: 0.0581 - accuracy: 0.9756\n",
            "Epoch 67/150\n",
            "2/2 [==============================] - 0s 8ms/step - loss: 0.1659 - accuracy: 0.9756\n",
            "Epoch 68/150\n",
            "2/2 [==============================] - 0s 10ms/step - loss: 0.1839 - accuracy: 0.9268\n",
            "Epoch 69/150\n",
            "2/2 [==============================] - 0s 8ms/step - loss: 0.2015 - accuracy: 0.9024\n",
            "Epoch 70/150\n",
            "2/2 [==============================] - 0s 8ms/step - loss: 0.2120 - accuracy: 0.9268\n",
            "Epoch 71/150\n",
            "2/2 [==============================] - 0s 9ms/step - loss: 0.0698 - accuracy: 0.9756\n",
            "Epoch 72/150\n",
            "2/2 [==============================] - 0s 7ms/step - loss: 0.1323 - accuracy: 0.9268\n",
            "Epoch 73/150\n",
            "2/2 [==============================] - 0s 9ms/step - loss: 0.0298 - accuracy: 1.0000\n",
            "Epoch 74/150\n",
            "2/2 [==============================] - 0s 8ms/step - loss: 0.1230 - accuracy: 0.9756\n",
            "Epoch 75/150\n",
            "2/2 [==============================] - 0s 8ms/step - loss: 0.1932 - accuracy: 0.9024\n",
            "Epoch 76/150\n",
            "2/2 [==============================] - 0s 7ms/step - loss: 0.1702 - accuracy: 0.9268\n",
            "Epoch 77/150\n",
            "2/2 [==============================] - 0s 8ms/step - loss: 0.2193 - accuracy: 0.9268\n",
            "Epoch 78/150\n",
            "2/2 [==============================] - 0s 8ms/step - loss: 0.0790 - accuracy: 0.9512\n",
            "Epoch 79/150\n",
            "2/2 [==============================] - 0s 8ms/step - loss: 0.1084 - accuracy: 0.9512\n",
            "Epoch 80/150\n",
            "2/2 [==============================] - 0s 8ms/step - loss: 0.1232 - accuracy: 0.9756\n",
            "Epoch 81/150\n",
            "2/2 [==============================] - 0s 8ms/step - loss: 0.1800 - accuracy: 0.9512\n",
            "Epoch 82/150\n",
            "2/2 [==============================] - 0s 9ms/step - loss: 0.1059 - accuracy: 0.9756\n",
            "Epoch 83/150\n",
            "2/2 [==============================] - 0s 11ms/step - loss: 0.1086 - accuracy: 0.9512\n",
            "Epoch 84/150\n",
            "2/2 [==============================] - 0s 8ms/step - loss: 0.0627 - accuracy: 1.0000\n",
            "Epoch 85/150\n",
            "2/2 [==============================] - 0s 8ms/step - loss: 0.1116 - accuracy: 0.9512\n",
            "Epoch 86/150\n",
            "2/2 [==============================] - 0s 8ms/step - loss: 0.3187 - accuracy: 0.8780\n",
            "Epoch 87/150\n",
            "2/2 [==============================] - 0s 12ms/step - loss: 0.2050 - accuracy: 0.9268\n",
            "Epoch 88/150\n",
            "2/2 [==============================] - 0s 8ms/step - loss: 0.0851 - accuracy: 0.9756\n",
            "Epoch 89/150\n",
            "2/2 [==============================] - 0s 12ms/step - loss: 0.1048 - accuracy: 0.9756\n",
            "Epoch 90/150\n",
            "2/2 [==============================] - 0s 9ms/step - loss: 0.1450 - accuracy: 0.9512\n",
            "Epoch 91/150\n",
            "2/2 [==============================] - 0s 8ms/step - loss: 0.0710 - accuracy: 0.9756\n",
            "Epoch 92/150\n",
            "2/2 [==============================] - 0s 9ms/step - loss: 0.2428 - accuracy: 0.9024\n",
            "Epoch 93/150\n",
            "2/2 [==============================] - 0s 8ms/step - loss: 0.2488 - accuracy: 0.9024\n",
            "Epoch 94/150\n",
            "2/2 [==============================] - 0s 8ms/step - loss: 0.0771 - accuracy: 0.9756\n",
            "Epoch 95/150\n",
            "2/2 [==============================] - 0s 8ms/step - loss: 0.1616 - accuracy: 0.9268\n",
            "Epoch 96/150\n",
            "2/2 [==============================] - 0s 8ms/step - loss: 0.1193 - accuracy: 0.9756\n",
            "Epoch 97/150\n",
            "2/2 [==============================] - 0s 8ms/step - loss: 0.3051 - accuracy: 0.9268\n",
            "Epoch 98/150\n",
            "2/2 [==============================] - 0s 9ms/step - loss: 0.0739 - accuracy: 0.9756\n",
            "Epoch 99/150\n",
            "2/2 [==============================] - 0s 8ms/step - loss: 0.0858 - accuracy: 0.9512\n",
            "Epoch 100/150\n",
            "2/2 [==============================] - 0s 8ms/step - loss: 0.1089 - accuracy: 0.9756\n",
            "Epoch 101/150\n",
            "2/2 [==============================] - 0s 8ms/step - loss: 0.0882 - accuracy: 0.9756\n",
            "Epoch 102/150\n",
            "2/2 [==============================] - 0s 10ms/step - loss: 0.0924 - accuracy: 0.9756\n",
            "Epoch 103/150\n",
            "2/2 [==============================] - 0s 8ms/step - loss: 0.0785 - accuracy: 0.9512\n",
            "Epoch 104/150\n",
            "2/2 [==============================] - 0s 8ms/step - loss: 0.1830 - accuracy: 0.8780\n",
            "Epoch 105/150\n",
            "2/2 [==============================] - 0s 9ms/step - loss: 0.1539 - accuracy: 0.9268\n",
            "Epoch 106/150\n",
            "2/2 [==============================] - 0s 9ms/step - loss: 0.0967 - accuracy: 0.9268\n",
            "Epoch 107/150\n",
            "2/2 [==============================] - 0s 9ms/step - loss: 0.0571 - accuracy: 0.9756\n",
            "Epoch 108/150\n",
            "2/2 [==============================] - 0s 9ms/step - loss: 0.0750 - accuracy: 0.9756\n",
            "Epoch 109/150\n",
            "2/2 [==============================] - 0s 9ms/step - loss: 0.1133 - accuracy: 0.9512\n",
            "Epoch 110/150\n",
            "2/2 [==============================] - 0s 9ms/step - loss: 0.1763 - accuracy: 0.9268\n",
            "Epoch 111/150\n",
            "2/2 [==============================] - 0s 9ms/step - loss: 0.1342 - accuracy: 0.9756\n",
            "Epoch 112/150\n",
            "2/2 [==============================] - 0s 9ms/step - loss: 0.1122 - accuracy: 0.9512\n",
            "Epoch 113/150\n",
            "2/2 [==============================] - 0s 8ms/step - loss: 0.0631 - accuracy: 0.9756\n",
            "Epoch 114/150\n",
            "2/2 [==============================] - 0s 8ms/step - loss: 0.2271 - accuracy: 0.9268\n",
            "Epoch 115/150\n",
            "2/2 [==============================] - 0s 8ms/step - loss: 0.0458 - accuracy: 0.9756\n",
            "Epoch 116/150\n",
            "2/2 [==============================] - 0s 8ms/step - loss: 0.1770 - accuracy: 0.9268\n",
            "Epoch 117/150\n",
            "2/2 [==============================] - 0s 8ms/step - loss: 0.1259 - accuracy: 0.9512\n",
            "Epoch 118/150\n",
            "2/2 [==============================] - 0s 9ms/step - loss: 0.0415 - accuracy: 0.9756\n",
            "Epoch 119/150\n",
            "2/2 [==============================] - 0s 8ms/step - loss: 0.0671 - accuracy: 0.9756\n",
            "Epoch 120/150\n",
            "2/2 [==============================] - 0s 8ms/step - loss: 0.0830 - accuracy: 0.9512\n",
            "Epoch 121/150\n",
            "2/2 [==============================] - 0s 7ms/step - loss: 0.1629 - accuracy: 0.9268\n",
            "Epoch 122/150\n",
            "2/2 [==============================] - 0s 7ms/step - loss: 0.1283 - accuracy: 0.9756\n",
            "Epoch 123/150\n",
            "2/2 [==============================] - 0s 7ms/step - loss: 0.1105 - accuracy: 0.9756\n",
            "Epoch 124/150\n",
            "2/2 [==============================] - 0s 8ms/step - loss: 0.2155 - accuracy: 0.9268\n",
            "Epoch 125/150\n",
            "2/2 [==============================] - 0s 7ms/step - loss: 0.1094 - accuracy: 0.9512\n",
            "Epoch 126/150\n",
            "2/2 [==============================] - 0s 7ms/step - loss: 0.1268 - accuracy: 0.9512\n",
            "Epoch 127/150\n",
            "2/2 [==============================] - 0s 7ms/step - loss: 0.2316 - accuracy: 0.9024\n",
            "Epoch 128/150\n",
            "2/2 [==============================] - 0s 11ms/step - loss: 0.1787 - accuracy: 0.9024\n",
            "Epoch 129/150\n",
            "2/2 [==============================] - 0s 10ms/step - loss: 0.1261 - accuracy: 0.9512\n",
            "Epoch 130/150\n",
            "2/2 [==============================] - 0s 8ms/step - loss: 0.0680 - accuracy: 0.9756\n",
            "Epoch 131/150\n",
            "2/2 [==============================] - 0s 8ms/step - loss: 0.0643 - accuracy: 0.9756\n",
            "Epoch 132/150\n",
            "2/2 [==============================] - 0s 8ms/step - loss: 0.0659 - accuracy: 0.9512\n",
            "Epoch 133/150\n",
            "2/2 [==============================] - 0s 8ms/step - loss: 0.1445 - accuracy: 0.9024\n",
            "Epoch 134/150\n",
            "2/2 [==============================] - 0s 7ms/step - loss: 0.0913 - accuracy: 0.9512\n",
            "Epoch 135/150\n",
            "2/2 [==============================] - 0s 9ms/step - loss: 0.0960 - accuracy: 0.9512\n",
            "Epoch 136/150\n",
            "2/2 [==============================] - 0s 9ms/step - loss: 0.1814 - accuracy: 0.9268\n",
            "Epoch 137/150\n",
            "2/2 [==============================] - 0s 10ms/step - loss: 0.0887 - accuracy: 0.9756\n",
            "Epoch 138/150\n",
            "2/2 [==============================] - 0s 7ms/step - loss: 0.1082 - accuracy: 0.9756\n",
            "Epoch 139/150\n",
            "2/2 [==============================] - 0s 8ms/step - loss: 0.1689 - accuracy: 0.9512\n",
            "Epoch 140/150\n",
            "2/2 [==============================] - 0s 8ms/step - loss: 0.0677 - accuracy: 0.9756\n",
            "Epoch 141/150\n",
            "2/2 [==============================] - 0s 8ms/step - loss: 0.1934 - accuracy: 0.9268\n",
            "Epoch 142/150\n",
            "2/2 [==============================] - 0s 8ms/step - loss: 0.1113 - accuracy: 0.9268\n",
            "Epoch 143/150\n",
            "2/2 [==============================] - 0s 7ms/step - loss: 0.1431 - accuracy: 0.9512\n",
            "Epoch 144/150\n",
            "2/2 [==============================] - 0s 8ms/step - loss: 0.0990 - accuracy: 0.9512\n",
            "Epoch 145/150\n",
            "2/2 [==============================] - 0s 16ms/step - loss: 0.0503 - accuracy: 0.9756\n",
            "Epoch 146/150\n",
            "2/2 [==============================] - 0s 11ms/step - loss: 0.0888 - accuracy: 0.9512\n",
            "Epoch 147/150\n",
            "2/2 [==============================] - 0s 11ms/step - loss: 0.1034 - accuracy: 0.9512\n",
            "Epoch 148/150\n",
            "2/2 [==============================] - 0s 8ms/step - loss: 0.1276 - accuracy: 0.9268\n",
            "Epoch 149/150\n",
            "2/2 [==============================] - 0s 7ms/step - loss: 0.1934 - accuracy: 0.9268\n",
            "Epoch 150/150\n",
            "2/2 [==============================] - 0s 7ms/step - loss: 0.1026 - accuracy: 0.9512\n"
          ]
        },
        {
          "output_type": "execute_result",
          "data": {
            "text/plain": [
              "<keras.src.callbacks.History at 0x7ac5b0a321d0>"
            ]
          },
          "metadata": {},
          "execution_count": 26
        }
      ]
    },
    {
      "cell_type": "markdown",
      "source": [
        "**Step-7: Pre-processing the User’s Input**"
      ],
      "metadata": {
        "id": "UXzGOVij8EhX"
      }
    },
    {
      "cell_type": "code",
      "source": [
        "#7 Preprocessing the Input\n",
        "\n",
        "def clean_text(text):\n",
        "  tokens = nltk.word_tokenize(text)\n",
        "  tokens = [lemmatizer.lemmatize(word) for word in tokens]\n",
        "  return tokens\n",
        "\n",
        "def bag_of_words (text, vocab):\n",
        "  tokens = clean_text(text)\n",
        "  bow = [0] * len(vocab)\n",
        "  for w in tokens:\n",
        "    for idx, word in enumerate (vocab):\n",
        "      if word== w:\n",
        "        bow[idx] = 1\n",
        "  return np.array(bow)\n",
        "\n",
        "def pred_class(text, vocab, labels):\n",
        "  bow = bag_of_words (text, vocab)\n",
        "  result = model.predict(np.array([bow]))[0] #Extracting probabilities\n",
        "  thresh = 0.5\n",
        "  y_pred = [[indx, res] for indx, res in enumerate(result) if res > thresh]\n",
        "  y_pred.sort(key=lambda x: x[1], reverse=True) #Sorting by values of probability in decreasing order\n",
        "  return_list = []\n",
        "  for r in y_pred:\n",
        "    return_list.append(labels[r[e]]) #Contains labels(tags) for highest probability\n",
        "  return return_list\n",
        "\n",
        "def get_response(intents_list, intents_json):\n",
        "  if len(intents_list) == 0:\n",
        "    result = \"Sorry! I don't understand.\"\n",
        "  else:\n",
        "    tag = intents_list[0]\n",
        "    list_of_intents = intents_json[\"intents\"]\n",
        "  for i in list_of_intents:\n",
        "    if i[\"tag\"] == tag:\n",
        "      result = random.choice(i[\"responses\"])\n",
        "      break\n",
        "  return result"
      ],
      "metadata": {
        "id": "p4bU9U6q7cWT"
      },
      "execution_count": 29,
      "outputs": []
    },
    {
      "cell_type": "markdown",
      "source": [
        "**Step-8: Calling the Relevant Functions and interacting with the ChatBot**"
      ],
      "metadata": {
        "id": "-p7EBoza-CKq"
      }
    },
    {
      "cell_type": "code",
      "source": [
        "#8 Interacting with the chatbot\n",
        "\n",
        "print(\"Press 0 if you don't want to chat with our ChatBot.\")\n",
        "while True:\n",
        "  message = input(\"\")\n",
        "  if message == \"0\":\n",
        "    break\n",
        "  intents = pred_class(message, words, classes)\n",
        "  result = get_response(intents, data)\n",
        "  print(result)"
      ],
      "metadata": {
        "colab": {
          "base_uri": "https://localhost:8080/"
        },
        "id": "E5jiihSb91ds",
        "outputId": "b5e3e031-2cea-4ff6-9c5b-d5415009e14d"
      },
      "execution_count": null,
      "outputs": [
        {
          "output_type": "stream",
          "name": "stdout",
          "text": [
            "Press 0 if you don't want to chat with our ChatBot.\n"
          ]
        }
      ]
    },
    {
      "cell_type": "code",
      "source": [],
      "metadata": {
        "id": "UPI7op1k-pel"
      },
      "execution_count": 32,
      "outputs": []
    }
  ]
}